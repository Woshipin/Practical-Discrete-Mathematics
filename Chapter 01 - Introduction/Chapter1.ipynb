{
  "cells": [
    {
      "cell_type": "markdown",
      "metadata": {
        "id": "Whfn0HHHq5Re"
      },
      "source": [
        "# Chapter 1 - Introduction: Key Concepts, Notation, Set Theory, Relations, and Functions\n",
        "\n",
        "This notebook contains code accompanying Chapter 1 Introduction: Key Concepts, Notation, Set Theory, Relations, and Functions in *Practical Discrete Mathematics* by Ryan T. White and Archana Tikayat Ray\n",
        "\n",
        "## Functions and Relations\n",
        "\n",
        "### The `sort()` function"
      ]
    },
    {
      "cell_type": "code",
      "execution_count": null,
      "metadata": {
        "id": "VACYcaAiq5Rg",
        "outputId": "87799694-7cb0-401d-f7ea-6d388786d0b3"
      },
      "outputs": [
        {
          "name": "stdout",
          "output_type": "stream",
          "text": [
            "[1, 2, 3, 4, 5, 8, 9, 12]\n",
            "['Brandon', 'Elise', 'Eugene', 'Kumar', 'Wyatt']\n"
          ]
        }
      ],
      "source": [
        "numbers = [3, 1, 4, 12, 8, 5, 2, 9]\n",
        "names = ['Wyatt', 'Brandon', 'Kumar', 'Eugene', 'Elise']\n",
        "\n",
        "# Apply the sort() function to the lists\n",
        "numbers.sort()\n",
        "names.sort()\n",
        "\n",
        "# Display the output\n",
        "print(numbers)\n",
        "print(names)"
      ]
    },
    {
      "cell_type": "markdown",
      "metadata": {
        "id": "qupEBRFHq5Rh"
      },
      "source": [
        "### The `shuffle()` function"
      ]
    },
    {
      "cell_type": "code",
      "execution_count": null,
      "metadata": {
        "id": "1meWtN2oq5Rh",
        "outputId": "a88af23b-57de-49c7-d9d0-fa0ee0b77006"
      },
      "outputs": [
        {
          "name": "stdout",
          "output_type": "stream",
          "text": [
            "[12, 2, 1, 5, 9, 3, 8, 4]\n",
            "[4, 2, 8, 3, 1, 12, 5, 9]\n",
            "[4, 5, 1, 9, 3, 8, 12, 2]\n",
            "[9, 12, 2, 8, 5, 3, 4, 1]\n",
            "[9, 8, 4, 3, 12, 1, 5, 2]\n"
          ]
        }
      ],
      "source": [
        "import random\n",
        "\n",
        "# Set a random seed so the code is reproducible\n",
        "random.seed(1)\n",
        "\n",
        "# Run the random.shuffle() function 5 times and display the outputs\n",
        "for i in range(0,5):\n",
        "    numbers = [3, 1, 4, 12, 8, 5, 2, 9]\n",
        "    random.shuffle(numbers)\n",
        "    print(numbers)"
      ]
    },
    {
      "cell_type": "code",
      "source": [
        "numbers = [12, 22, 32, 45, 56]\n",
        "names = ['Foo', 'Loh', 'Fong', 'Lim', 'Chow']\n",
        "\n",
        "# Apply the sort() function to the lists\n",
        "numbers.reverse()\n",
        "names.sort()\n",
        "\n",
        "# Display the output\n",
        "print(numbers)\n",
        "print(names)"
      ],
      "metadata": {
        "id": "QLc7Vo-BrBdg",
        "outputId": "3ab4ae87-beea-4b8e-846c-ebc33e912e28",
        "colab": {
          "base_uri": "https://localhost:8080/"
        }
      },
      "execution_count": 1,
      "outputs": [
        {
          "output_type": "stream",
          "name": "stdout",
          "text": [
            "[56, 45, 32, 22, 12]\n",
            "['Chow', 'Fong', 'Foo', 'Lim', 'Loh']\n"
          ]
        }
      ]
    },
    {
      "cell_type": "code",
      "source": [
        "name = 'Loh Jin Pin'\n",
        "def remove(string):\n",
        "    return \"\".join(string.split())\n",
        "\n",
        "print('My name count is',name)\n",
        "\n",
        "print('My name count is',len(remove(name)))"
      ],
      "metadata": {
        "id": "e4l9JwN5rLRi",
        "outputId": "e28a546e-6731-4136-8598-b15a61a8da83",
        "colab": {
          "base_uri": "https://localhost:8080/"
        }
      },
      "execution_count": 6,
      "outputs": [
        {
          "output_type": "stream",
          "name": "stdout",
          "text": [
            "My name count is Loh Jin Pin\n",
            "My name count is 9\n"
          ]
        }
      ]
    }
  ],
  "metadata": {
    "kernelspec": {
      "display_name": "Python 3",
      "name": "python3"
    },
    "language_info": {
      "name": "python"
    },
    "colab": {
      "provenance": []
    }
  },
  "nbformat": 4,
  "nbformat_minor": 0
}